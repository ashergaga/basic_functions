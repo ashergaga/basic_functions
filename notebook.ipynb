pandas的to_csv()使用方法
1.首先查询当前的工作路径：

